{
 "cells": [
  {
   "cell_type": "markdown",
   "metadata": {
    "id": "ww8fUIQ8SY2U"
   },
   "source": [
    "[![Roboflow Notebooks](https://media.roboflow.com/notebooks/template/bannertest2-2.png?ik-sdk-version=javascript-1.4.3&updatedAt=1672932710194)](https://github.com/roboflow/notebooks)\n",
    "\n",
    "# How to Train RF-DETR Object Detection on a Custom Dataset\n",
    "\n",
    "---\n",
    "\n",
    "[![hf space](https://img.shields.io/badge/%F0%9F%A4%97%20Hugging%20Face-Spaces-blue)](https://huggingface.co/spaces/SkalskiP/RF-DETR)\n",
    "[![colab](https://colab.research.google.com/assets/colab-badge.svg)](https://colab.research.google.com/github/roboflow-ai/notebooks/blob/main/notebooks/how-to-finetune-rf-detr-on-detection-dataset.ipynb)\n",
    "[![roboflow](https://raw.githubusercontent.com/roboflow-ai/notebooks/main/assets/badges/roboflow-blogpost.svg)](https://blog.roboflow.com/rf-detr)\n",
    "[![code](https://badges.aleen42.com/src/github.svg)](https://github.com/roboflow/rf-detr)\n",
    "\n",
    "RF-DETR is a real-time, transformer-based object detection model architecture developed by Roboflow and released under the Apache 2.0 license.\n",
    "\n",
    "![rf-detr-coco-rf100-vl-8](https://media.roboflow.com/rf-detr/charts.png)\n",
    "\n",
    "RF-DETR is the first real-time model to exceed 60 AP on the [Microsoft COCO benchmark](https://cocodataset.org/#home) alongside competitive performance at base sizes. It also achieves state-of-the-art performance on [RF100-VL](https://github.com/roboflow/rf100-vl), an object detection benchmark that measures model domain adaptability to real world problems. RF-DETR is comparable speed to current real-time objection models.\n",
    "\n",
    "![rf-detr-coco-results-2](https://media.roboflow.com/rf-detr/example_grid.png)\n",
    "\n",
    "RF-DETR is small enough to run on the edge, making it an ideal model for deployments that need both strong accuracy and real-time performance."
   ]
  },
  {
   "cell_type": "markdown",
   "metadata": {
    "id": "iwzfrPKyTqDc"
   },
   "source": [
    "### Check GPU availability\n",
    "\n",
    "Let's make sure that we have access to GPU. We can use `nvidia-smi` command to do that. In case of any problems navigate to `Edit` -> `Notebook settings` -> `Hardware accelerator`, set it to `T4 GPU`, and then click `Save`."
   ]
  },
  {
   "cell_type": "code",
   "execution_count": null,
   "metadata": {
    "colab": {
     "base_uri": "https://localhost:8080/"
    },
    "id": "ms0ps6ZCT2xs",
    "outputId": "6a5ffafe-73c6-45f9-f16b-36e400cc2ded"
   },
   "outputs": [],
   "source": [
    "!nvidia-smi"
   ]
  },
  {
   "cell_type": "markdown",
   "metadata": {
    "id": "JSbiL1I6T8JY"
   },
   "source": [
    "### Install dependencies"
   ]
  },
  {
   "cell_type": "code",
   "execution_count": null,
   "metadata": {
    "id": "3CbzMY6wITlr"
   },
   "outputs": [],
   "source": [
    "!pip install -q rfdetr"
   ]
  },
  {
   "cell_type": "markdown",
   "metadata": {
    "id": "hzulEARVVZxw"
   },
   "source": [
    "### Download example data"
   ]
  },
  {
   "cell_type": "code",
   "execution_count": null,
   "metadata": {
    "id": "8DCCwexcU6gO"
   },
   "outputs": [],
   "source": [
    "!wget -q https://media.roboflow.com/notebooks/examples/dog-2.jpeg\n",
    "!wget -q https://media.roboflow.com/notebooks/examples/dog-3.jpeg"
   ]
  },
  {
   "cell_type": "markdown",
   "metadata": {
    "id": "wGfBHjJwWNEO"
   },
   "source": [
    "## Inference with Pre-trained COCO Model"
   ]
  },
  {
   "cell_type": "code",
   "execution_count": null,
   "metadata": {
    "colab": {
     "base_uri": "https://localhost:8080/",
     "height": 1000,
     "referenced_widgets": [
      "2022580750cc437897278be443bcd5b8",
      "5936647f23164fb498f3ae77190e2c5b",
      "45963ac8eb3d4326b5ae0a56a719285e",
      "5e5cf0bcf29d42b2ab34a759742cd244",
      "212f52298ba6404bbe04654f72955bfb",
      "988e2a5d6179413595cca60cc37365f9",
      "b5edb563c59740438ab0d48edc4001e9",
      "76ca452f34724df18f9905005f5246c7",
      "fd540606ece4410e9e36799d293f097f",
      "6d1f6f1daf3f4b1c98f00df76f84c898",
      "80b5585fe96c42728629e1d181bff111",
      "792483839b5642d9a77a1c28c678d5eb",
      "0a44d6bd570c45b6bcdc6aa8494dfdfe",
      "2ac41fe99c34426cb5c0f6741885f260",
      "7f2a5184113e458ba8be469ecedc9555",
      "911270b3443644fa8643cd16bfa1949b",
      "16725ab062dd4f7abe4930cbcc99ca94",
      "5333d707ffaf42ee92c0ade201b58431",
      "3fef7f236d3f4551bb8cb476f09dfe99",
      "2eaa7666176147099484fdaaa1dc100f",
      "f8b310fc6c794220814f45dc562d37e9",
      "da76dfb62d3c4e51a575c0b63201555c"
     ]
    },
    "id": "PtOufRspVekp",
    "outputId": "711403bd-2543-4582-de1b-1e6b369045af"
   },
   "outputs": [],
   "source": [
    "from rfdetr import RFDETRBase\n",
    "from rfdetr.util.coco_classes import COCO_CLASSES\n",
    "import supervision as sv\n",
    "import numpy as np\n",
    "from PIL import Image\n",
    "\n",
    "image = Image.open(\"dog-2.jpeg\")\n",
    "\n",
    "model = RFDETRBase()\n",
    "detections = model.predict(image, threshold=0.5)\n",
    "\n",
    "color = sv.ColorPalette.from_hex([\n",
    "    \"#ffff00\", \"#ff9b00\", \"#ff8080\", \"#ff66b2\", \"#ff66ff\", \"#b266ff\",\n",
    "    \"#9999ff\", \"#3399ff\", \"#66ffff\", \"#33ff99\", \"#66ff66\", \"#99ff00\"\n",
    "])\n",
    "text_scale = sv.calculate_optimal_text_scale(resolution_wh=image.size)\n",
    "thickness = sv.calculate_optimal_line_thickness(resolution_wh=image.size)\n",
    "\n",
    "bbox_annotator = sv.BoxAnnotator(color=color, thickness=thickness)\n",
    "label_annotator = sv.LabelAnnotator(\n",
    "    color=color,\n",
    "    text_color=sv.Color.BLACK,\n",
    "    text_scale=text_scale,\n",
    "    smart_position=True\n",
    ")\n",
    "\n",
    "labels = [\n",
    "    f\"{COCO_CLASSES[class_id]} {confidence:.2f}\"\n",
    "    for class_id, confidence\n",
    "    in zip(detections.class_id, detections.confidence)\n",
    "]\n",
    "\n",
    "annotated_image = image.copy()\n",
    "annotated_image = bbox_annotator.annotate(annotated_image, detections)\n",
    "annotated_image = label_annotator.annotate(annotated_image, detections, labels)\n",
    "annotated_image"
   ]
  },
  {
   "cell_type": "markdown",
   "metadata": {
    "id": "MK6zkzY1lPtw"
   },
   "source": [
    "## Download dataset from Roboflow Universe"
   ]
  },
  {
   "cell_type": "code",
   "execution_count": null,
   "metadata": {
    "colab": {
     "base_uri": "https://localhost:8080/"
    },
    "id": "hQkMUyB0lROT",
    "outputId": "01fc243a-7911-4762-f44b-4652f748e138"
   },
   "outputs": [],
   "source": [
    "from roboflow import download_dataset\n",
    "\n",
    "dataset = download_dataset(\"https://universe.roboflow.com/rf100-vl/mahjong-vtacs-mexax-m4vyu-sjtd/dataset/2\", \"coco\")"
   ]
  },
  {
   "cell_type": "markdown",
   "metadata": {
    "id": "vmT8f_bAq3zX"
   },
   "source": [
    "## Train RF-DETR on custom dataset\n",
    "\n",
    "### Choose the right `batch_size`\n",
    "\n",
    "Different GPUs have different amounts of VRAM (video memory), which limits how much data they can handle at once during training. To make training work well on any machine, you can adjust two settings: `batch_size` and `grad_accum_steps`. These control how many samples are processed at a time. The key is to keep their product equal to 16 — that’s our recommended total batch size. For example, on powerful GPUs like the A100, set `batch_size=16` and `grad_accum_steps=1`. On smaller GPUs like the T4, use `batch_size=4` and `grad_accum_steps=4`. We use a method called gradient accumulation, which lets the model simulate training with a larger batch size by gradually collecting updates before adjusting the weights.\n",
    "\n",
    "### Train with multiple GPUs\n",
    "\n",
    "You can fine-tune RF-DETR on multiple GPUs using PyTorch’s Distributed Data Parallel (DDP). Create a `main.py` script that initializes your model and calls `.train()` as usual than run it in terminal.\n",
    "\n",
    "```bash\n",
    "python -m torch.distributed.launch \\\n",
    "    --nproc_per_node=8 \\\n",
    "    --use_env \\\n",
    "    main.py\n",
    "```\n",
    "\n",
    "Replace `8` in the `--nproc_per_node argument` with the number of GPUs you want to use. This approach creates one training process per GPU and splits the workload automatically. Note that your effective batch size is multiplied by the number of GPUs, so you may need to adjust your `batch_size` and `grad_accum_steps` to maintain the same overall batch size."
   ]
  },
  {
   "cell_type": "code",
   "execution_count": null,
   "metadata": {
    "id": "1UvmuIammK9s"
   },
   "outputs": [],
   "source": [
    "from rfdetr import RFDETRBase\n",
    "\n",
    "model = RFDETRBase()\n",
    "history = []\n",
    "\n",
    "def callback2(data):\n",
    "    history.append(data)\n",
    "\n",
    "model.callbacks[\"on_fit_epoch_end\"].append(callback2)\n",
    "\n",
    "model.train(dataset_dir=dataset.location, epochs=15, batch_size=16, grad_accum_steps=1, lr=1e-4)"
   ]
  },
  {
   "cell_type": "code",
   "execution_count": null,
   "metadata": {
    "colab": {
     "base_uri": "https://localhost:8080/",
     "height": 718
    },
    "id": "7UEX3GVCmYaq",
    "outputId": "a579ba09-43ab-4863-d2b6-94dbd77bbb6b"
   },
   "outputs": [],
   "source": [
    "import matplotlib.pyplot as plt\n",
    "import pandas as pd\n",
    "\n",
    "df = pd.DataFrame(history)\n",
    "\n",
    "plt.figure(figsize=(12, 8))\n",
    "\n",
    "plt.plot(\n",
    "    df['epoch'],\n",
    "    df['train_loss'],\n",
    "    label='Training Loss',\n",
    "    marker='o',\n",
    "    linestyle='-'\n",
    ")\n",
    "\n",
    "plt.plot(\n",
    "    df['epoch'],\n",
    "    df['test_loss'],\n",
    "    label='Validation Loss',\n",
    "    marker='o',\n",
    "    linestyle='--'\n",
    ")\n",
    "\n",
    "plt.title('Train/Validation Loss over Epochs')\n",
    "plt.xlabel('Epoch')\n",
    "plt.ylabel('Loss')\n",
    "plt.legend()\n",
    "plt.grid(True)\n",
    "\n",
    "plt.show()"
   ]
  },
  {
   "cell_type": "code",
   "execution_count": null,
   "metadata": {
    "colab": {
     "base_uri": "https://localhost:8080/",
     "height": 1000
    },
    "id": "gcjxmZeqqAdv",
    "outputId": "356c1fea-316e-4b3d-888c-fe869e8adffd"
   },
   "outputs": [],
   "source": [
    "import matplotlib.pyplot as plt\n",
    "import pandas as pd\n",
    "\n",
    "df = pd.DataFrame(history)\n",
    "\n",
    "df['avg_precision'] = df['test_coco_eval_bbox'].apply(lambda arr: arr[0])\n",
    "df['avg_recall'] = df['test_coco_eval_bbox'].apply(lambda arr: arr[6])\n",
    "\n",
    "plt.figure(figsize=(12, 8))\n",
    "plt.plot(\n",
    "    df['epoch'],\n",
    "    df['avg_precision'],\n",
    "    marker='o',\n",
    "    linestyle='-'\n",
    ")\n",
    "plt.title('AP (IoU=0.50:0.95, area=all, maxDets=100) over Epochs')\n",
    "plt.xlabel('Epoch')\n",
    "plt.ylabel('AP')\n",
    "plt.grid(True)\n",
    "plt.show()\n",
    "\n",
    "\n",
    "plt.figure(figsize=(12, 8))\n",
    "plt.plot(\n",
    "    df['epoch'],\n",
    "    df['avg_recall'],\n",
    "    marker='o',\n",
    "    linestyle='-'\n",
    ")\n",
    "plt.title('AR (IoU=0.50:0.95, area=all, maxDets=1) over Epochs')\n",
    "plt.xlabel('Epoch')\n",
    "plt.ylabel('AR')\n",
    "plt.grid(True)\n",
    "plt.show()"
   ]
  },
  {
   "cell_type": "markdown",
   "metadata": {
    "id": "xT1tPwZS_-6t"
   },
   "source": [
    "## Run inference with fine-tuned model"
   ]
  },
  {
   "cell_type": "code",
   "execution_count": null,
   "metadata": {
    "id": "xm-lmRWLswO4"
   },
   "outputs": [],
   "source": [
    "import supervision as sv\n",
    "\n",
    "ds = sv.DetectionDataset.from_coco(\n",
    "    images_directory_path=f\"{dataset.location}/test\",\n",
    "    annotations_path=f\"{dataset.location}/test/_annotations.coco.json\",\n",
    ")"
   ]
  },
  {
   "cell_type": "code",
   "execution_count": null,
   "metadata": {
    "colab": {
     "base_uri": "https://localhost:8080/",
     "height": 622
    },
    "id": "msor_5HgAkm3",
    "outputId": "3c43efc2-c7d8-42b8-8d6d-c235f537222a"
   },
   "outputs": [],
   "source": [
    "from rfdetr import RFDETRBase\n",
    "import supervision as sv\n",
    "from PIL import Image\n",
    "\n",
    "path, image, annotations = ds[0]\n",
    "image = Image.open(path)\n",
    "\n",
    "detections = model.predict(image, threshold=0.5)\n",
    "\n",
    "text_scale = sv.calculate_optimal_text_scale(resolution_wh=image.size)\n",
    "thickness = sv.calculate_optimal_line_thickness(resolution_wh=image.size)\n",
    "\n",
    "bbox_annotator = sv.BoxAnnotator(thickness=thickness)\n",
    "label_annotator = sv.LabelAnnotator(\n",
    "    text_color=sv.Color.BLACK,\n",
    "    text_scale=text_scale,\n",
    "    text_thickness=thickness,\n",
    "    smart_position=True)\n",
    "\n",
    "annotations_labels = [\n",
    "    f\"{ds.classes[class_id]}\"\n",
    "    for class_id\n",
    "    in annotations.class_id\n",
    "]\n",
    "\n",
    "detections_labels = [\n",
    "    f\"{ds.classes[class_id]} {confidence:.2f}\"\n",
    "    for class_id, confidence\n",
    "    in zip(detections.class_id, detections.confidence)\n",
    "]\n",
    "\n",
    "annotation_image = image.copy()\n",
    "annotation_image = bbox_annotator.annotate(annotation_image, annotations)\n",
    "annotation_image = label_annotator.annotate(annotation_image, annotations, annotations_labels)\n",
    "\n",
    "detections_image = image.copy()\n",
    "detections_image = bbox_annotator.annotate(detections_image, detections)\n",
    "detections_image = label_annotator.annotate(detections_image, detections, detections_labels)\n",
    "\n",
    "sv.plot_images_grid(images=[annotation_image, detections_image], grid_size=(1, 2), titles=[\"Annotation\", \"Detection\"])"
   ]
  },
  {
   "cell_type": "code",
   "execution_count": null,
   "metadata": {
    "colab": {
     "base_uri": "https://localhost:8080/",
     "height": 961
    },
    "id": "RFEgIOz1YDCe",
    "outputId": "8f885c5c-5122-44a6-d8ed-3783e442cc69"
   },
   "outputs": [],
   "source": [
    "import supervision as sv\n",
    "from rfdetr import RFDETRBase\n",
    "from PIL import Image\n",
    "\n",
    "detections_images = []\n",
    "\n",
    "for i in range(16):\n",
    "    path, image, annotations = ds[i]\n",
    "    image = Image.open(path)\n",
    "\n",
    "    detections = model.predict(image, threshold=0.5)\n",
    "\n",
    "    text_scale = sv.calculate_optimal_text_scale(resolution_wh=image.size)\n",
    "    thickness = sv.calculate_optimal_line_thickness(resolution_wh=image.size)\n",
    "\n",
    "    bbox_annotator = sv.BoxAnnotator(thickness=thickness)\n",
    "    label_annotator = sv.LabelAnnotator(\n",
    "        text_color=sv.Color.BLACK,\n",
    "        text_scale=text_scale,\n",
    "        text_thickness=thickness,\n",
    "        smart_position=True)\n",
    "\n",
    "    detections_labels = [\n",
    "        f\"{ds.classes[class_id]} {confidence:.2f}\"\n",
    "        for class_id, confidence\n",
    "        in zip(detections.class_id, detections.confidence)\n",
    "    ]\n",
    "\n",
    "    detections_image = image.copy()\n",
    "    detections_image = bbox_annotator.annotate(detections_image, detections)\n",
    "    detections_image = label_annotator.annotate(detections_image, detections, detections_labels)\n",
    "\n",
    "    detections_images.append(detections_image)\n",
    "\n",
    "sv.plot_images_grid(images=detections_images, grid_size=(4, 4))"
   ]
  },
  {
   "cell_type": "markdown",
   "metadata": {
    "id": "X_9c113E39QP"
   },
   "source": [
    "## Evaluate fine-tuned model"
   ]
  },
  {
   "cell_type": "code",
   "execution_count": null,
   "metadata": {
    "colab": {
     "base_uri": "https://localhost:8080/"
    },
    "id": "szxs3PZsBVxa",
    "outputId": "46b8ab4b-41a0-4fc3-ff63-bb28bad0b442"
   },
   "outputs": [],
   "source": [
    "import supervision as sv\n",
    "from tqdm import tqdm\n",
    "from supervision.metrics import MeanAveragePrecision\n",
    "\n",
    "targets = []\n",
    "predictions = []\n",
    "\n",
    "for path, image, annotations in tqdm(ds):\n",
    "    image = Image.open(path)\n",
    "    detections = model.predict(image, threshold=0.5)\n",
    "\n",
    "    targets.append(annotations)\n",
    "    predictions.append(detections)"
   ]
  },
  {
   "cell_type": "code",
   "execution_count": null,
   "metadata": {
    "colab": {
     "base_uri": "https://localhost:8080/",
     "height": 607
    },
    "id": "fxqvXOQcsRF2",
    "outputId": "240e349f-4051-4c7a-eb74-2c521ac03e2b"
   },
   "outputs": [],
   "source": [
    "map_metric = MeanAveragePrecision()\n",
    "map_result = map_metric.update(predictions, targets).compute()\n",
    "\n",
    "map_result.plot()"
   ]
  },
  {
   "cell_type": "code",
   "execution_count": null,
   "metadata": {
    "colab": {
     "base_uri": "https://localhost:8080/",
     "height": 1000
    },
    "id": "WuiNB-UM1xsJ",
    "outputId": "822fea57-acb9-4d09-ad34-02aa640ad808"
   },
   "outputs": [],
   "source": [
    "confusion_matrix = sv.ConfusionMatrix.from_detections(\n",
    "    predictions=predictions,\n",
    "    targets=targets,\n",
    "    classes=ds.classes\n",
    ")\n",
    "\n",
    "_ = confusion_matrix.plot()"
   ]
  }
 ],
 "metadata": {
  "accelerator": "GPU",
  "colab": {
   "gpuType": "A100",
   "machine_shape": "hm",
   "provenance": []
  },
  "kernelspec": {
   "display_name": "Python 3 (ipykernel)",
   "language": "python",
   "name": "python3"
  },
  "language_info": {
   "codemirror_mode": {
    "name": "ipython",
    "version": 3
   },
   "file_extension": ".py",
   "mimetype": "text/x-python",
   "name": "python",
   "nbconvert_exporter": "python",
   "pygments_lexer": "ipython3",
   "version": "3.11.10"
  },
  "widgets": {
   "application/vnd.jupyter.widget-state+json": {
    "0a44d6bd570c45b6bcdc6aa8494dfdfe": {
     "model_module": "@jupyter-widgets/controls",
     "model_module_version": "1.5.0",
     "model_name": "HTMLModel",
     "state": {
      "_dom_classes": [],
      "_model_module": "@jupyter-widgets/controls",
      "_model_module_version": "1.5.0",
      "_model_name": "HTMLModel",
      "_view_count": null,
      "_view_module": "@jupyter-widgets/controls",
      "_view_module_version": "1.5.0",
      "_view_name": "HTMLView",
      "description": "",
      "description_tooltip": null,
      "layout": "IPY_MODEL_16725ab062dd4f7abe4930cbcc99ca94",
      "placeholder": "​",
      "style": "IPY_MODEL_5333d707ffaf42ee92c0ade201b58431",
      "value": "model.safetensors: 100%"
     }
    },
    "16725ab062dd4f7abe4930cbcc99ca94": {
     "model_module": "@jupyter-widgets/base",
     "model_module_version": "1.2.0",
     "model_name": "LayoutModel",
     "state": {
      "_model_module": "@jupyter-widgets/base",
      "_model_module_version": "1.2.0",
      "_model_name": "LayoutModel",
      "_view_count": null,
      "_view_module": "@jupyter-widgets/base",
      "_view_module_version": "1.2.0",
      "_view_name": "LayoutView",
      "align_content": null,
      "align_items": null,
      "align_self": null,
      "border": null,
      "bottom": null,
      "display": null,
      "flex": null,
      "flex_flow": null,
      "grid_area": null,
      "grid_auto_columns": null,
      "grid_auto_flow": null,
      "grid_auto_rows": null,
      "grid_column": null,
      "grid_gap": null,
      "grid_row": null,
      "grid_template_areas": null,
      "grid_template_columns": null,
      "grid_template_rows": null,
      "height": null,
      "justify_content": null,
      "justify_items": null,
      "left": null,
      "margin": null,
      "max_height": null,
      "max_width": null,
      "min_height": null,
      "min_width": null,
      "object_fit": null,
      "object_position": null,
      "order": null,
      "overflow": null,
      "overflow_x": null,
      "overflow_y": null,
      "padding": null,
      "right": null,
      "top": null,
      "visibility": null,
      "width": null
     }
    },
    "2022580750cc437897278be443bcd5b8": {
     "model_module": "@jupyter-widgets/controls",
     "model_module_version": "1.5.0",
     "model_name": "HBoxModel",
     "state": {
      "_dom_classes": [],
      "_model_module": "@jupyter-widgets/controls",
      "_model_module_version": "1.5.0",
      "_model_name": "HBoxModel",
      "_view_count": null,
      "_view_module": "@jupyter-widgets/controls",
      "_view_module_version": "1.5.0",
      "_view_name": "HBoxView",
      "box_style": "",
      "children": [
       "IPY_MODEL_5936647f23164fb498f3ae77190e2c5b",
       "IPY_MODEL_45963ac8eb3d4326b5ae0a56a719285e",
       "IPY_MODEL_5e5cf0bcf29d42b2ab34a759742cd244"
      ],
      "layout": "IPY_MODEL_212f52298ba6404bbe04654f72955bfb"
     }
    },
    "212f52298ba6404bbe04654f72955bfb": {
     "model_module": "@jupyter-widgets/base",
     "model_module_version": "1.2.0",
     "model_name": "LayoutModel",
     "state": {
      "_model_module": "@jupyter-widgets/base",
      "_model_module_version": "1.2.0",
      "_model_name": "LayoutModel",
      "_view_count": null,
      "_view_module": "@jupyter-widgets/base",
      "_view_module_version": "1.2.0",
      "_view_name": "LayoutView",
      "align_content": null,
      "align_items": null,
      "align_self": null,
      "border": null,
      "bottom": null,
      "display": null,
      "flex": null,
      "flex_flow": null,
      "grid_area": null,
      "grid_auto_columns": null,
      "grid_auto_flow": null,
      "grid_auto_rows": null,
      "grid_column": null,
      "grid_gap": null,
      "grid_row": null,
      "grid_template_areas": null,
      "grid_template_columns": null,
      "grid_template_rows": null,
      "height": null,
      "justify_content": null,
      "justify_items": null,
      "left": null,
      "margin": null,
      "max_height": null,
      "max_width": null,
      "min_height": null,
      "min_width": null,
      "object_fit": null,
      "object_position": null,
      "order": null,
      "overflow": null,
      "overflow_x": null,
      "overflow_y": null,
      "padding": null,
      "right": null,
      "top": null,
      "visibility": null,
      "width": null
     }
    },
    "2ac41fe99c34426cb5c0f6741885f260": {
     "model_module": "@jupyter-widgets/controls",
     "model_module_version": "1.5.0",
     "model_name": "FloatProgressModel",
     "state": {
      "_dom_classes": [],
      "_model_module": "@jupyter-widgets/controls",
      "_model_module_version": "1.5.0",
      "_model_name": "FloatProgressModel",
      "_view_count": null,
      "_view_module": "@jupyter-widgets/controls",
      "_view_module_version": "1.5.0",
      "_view_name": "ProgressView",
      "bar_style": "success",
      "description": "",
      "description_tooltip": null,
      "layout": "IPY_MODEL_3fef7f236d3f4551bb8cb476f09dfe99",
      "max": 88249960,
      "min": 0,
      "orientation": "horizontal",
      "style": "IPY_MODEL_2eaa7666176147099484fdaaa1dc100f",
      "value": 88249960
     }
    },
    "2eaa7666176147099484fdaaa1dc100f": {
     "model_module": "@jupyter-widgets/controls",
     "model_module_version": "1.5.0",
     "model_name": "ProgressStyleModel",
     "state": {
      "_model_module": "@jupyter-widgets/controls",
      "_model_module_version": "1.5.0",
      "_model_name": "ProgressStyleModel",
      "_view_count": null,
      "_view_module": "@jupyter-widgets/base",
      "_view_module_version": "1.2.0",
      "_view_name": "StyleView",
      "bar_color": null,
      "description_width": ""
     }
    },
    "3fef7f236d3f4551bb8cb476f09dfe99": {
     "model_module": "@jupyter-widgets/base",
     "model_module_version": "1.2.0",
     "model_name": "LayoutModel",
     "state": {
      "_model_module": "@jupyter-widgets/base",
      "_model_module_version": "1.2.0",
      "_model_name": "LayoutModel",
      "_view_count": null,
      "_view_module": "@jupyter-widgets/base",
      "_view_module_version": "1.2.0",
      "_view_name": "LayoutView",
      "align_content": null,
      "align_items": null,
      "align_self": null,
      "border": null,
      "bottom": null,
      "display": null,
      "flex": null,
      "flex_flow": null,
      "grid_area": null,
      "grid_auto_columns": null,
      "grid_auto_flow": null,
      "grid_auto_rows": null,
      "grid_column": null,
      "grid_gap": null,
      "grid_row": null,
      "grid_template_areas": null,
      "grid_template_columns": null,
      "grid_template_rows": null,
      "height": null,
      "justify_content": null,
      "justify_items": null,
      "left": null,
      "margin": null,
      "max_height": null,
      "max_width": null,
      "min_height": null,
      "min_width": null,
      "object_fit": null,
      "object_position": null,
      "order": null,
      "overflow": null,
      "overflow_x": null,
      "overflow_y": null,
      "padding": null,
      "right": null,
      "top": null,
      "visibility": null,
      "width": null
     }
    },
    "45963ac8eb3d4326b5ae0a56a719285e": {
     "model_module": "@jupyter-widgets/controls",
     "model_module_version": "1.5.0",
     "model_name": "FloatProgressModel",
     "state": {
      "_dom_classes": [],
      "_model_module": "@jupyter-widgets/controls",
      "_model_module_version": "1.5.0",
      "_model_name": "FloatProgressModel",
      "_view_count": null,
      "_view_module": "@jupyter-widgets/controls",
      "_view_module_version": "1.5.0",
      "_view_name": "ProgressView",
      "bar_style": "success",
      "description": "",
      "description_tooltip": null,
      "layout": "IPY_MODEL_76ca452f34724df18f9905005f5246c7",
      "max": 547,
      "min": 0,
      "orientation": "horizontal",
      "style": "IPY_MODEL_fd540606ece4410e9e36799d293f097f",
      "value": 547
     }
    },
    "5333d707ffaf42ee92c0ade201b58431": {
     "model_module": "@jupyter-widgets/controls",
     "model_module_version": "1.5.0",
     "model_name": "DescriptionStyleModel",
     "state": {
      "_model_module": "@jupyter-widgets/controls",
      "_model_module_version": "1.5.0",
      "_model_name": "DescriptionStyleModel",
      "_view_count": null,
      "_view_module": "@jupyter-widgets/base",
      "_view_module_version": "1.2.0",
      "_view_name": "StyleView",
      "description_width": ""
     }
    },
    "5936647f23164fb498f3ae77190e2c5b": {
     "model_module": "@jupyter-widgets/controls",
     "model_module_version": "1.5.0",
     "model_name": "HTMLModel",
     "state": {
      "_dom_classes": [],
      "_model_module": "@jupyter-widgets/controls",
      "_model_module_version": "1.5.0",
      "_model_name": "HTMLModel",
      "_view_count": null,
      "_view_module": "@jupyter-widgets/controls",
      "_view_module_version": "1.5.0",
      "_view_name": "HTMLView",
      "description": "",
      "description_tooltip": null,
      "layout": "IPY_MODEL_988e2a5d6179413595cca60cc37365f9",
      "placeholder": "​",
      "style": "IPY_MODEL_b5edb563c59740438ab0d48edc4001e9",
      "value": "config.json: 100%"
     }
    },
    "5e5cf0bcf29d42b2ab34a759742cd244": {
     "model_module": "@jupyter-widgets/controls",
     "model_module_version": "1.5.0",
     "model_name": "HTMLModel",
     "state": {
      "_dom_classes": [],
      "_model_module": "@jupyter-widgets/controls",
      "_model_module_version": "1.5.0",
      "_model_name": "HTMLModel",
      "_view_count": null,
      "_view_module": "@jupyter-widgets/controls",
      "_view_module_version": "1.5.0",
      "_view_name": "HTMLView",
      "description": "",
      "description_tooltip": null,
      "layout": "IPY_MODEL_6d1f6f1daf3f4b1c98f00df76f84c898",
      "placeholder": "​",
      "style": "IPY_MODEL_80b5585fe96c42728629e1d181bff111",
      "value": " 547/547 [00:00&lt;00:00, 65.6kB/s]"
     }
    },
    "6d1f6f1daf3f4b1c98f00df76f84c898": {
     "model_module": "@jupyter-widgets/base",
     "model_module_version": "1.2.0",
     "model_name": "LayoutModel",
     "state": {
      "_model_module": "@jupyter-widgets/base",
      "_model_module_version": "1.2.0",
      "_model_name": "LayoutModel",
      "_view_count": null,
      "_view_module": "@jupyter-widgets/base",
      "_view_module_version": "1.2.0",
      "_view_name": "LayoutView",
      "align_content": null,
      "align_items": null,
      "align_self": null,
      "border": null,
      "bottom": null,
      "display": null,
      "flex": null,
      "flex_flow": null,
      "grid_area": null,
      "grid_auto_columns": null,
      "grid_auto_flow": null,
      "grid_auto_rows": null,
      "grid_column": null,
      "grid_gap": null,
      "grid_row": null,
      "grid_template_areas": null,
      "grid_template_columns": null,
      "grid_template_rows": null,
      "height": null,
      "justify_content": null,
      "justify_items": null,
      "left": null,
      "margin": null,
      "max_height": null,
      "max_width": null,
      "min_height": null,
      "min_width": null,
      "object_fit": null,
      "object_position": null,
      "order": null,
      "overflow": null,
      "overflow_x": null,
      "overflow_y": null,
      "padding": null,
      "right": null,
      "top": null,
      "visibility": null,
      "width": null
     }
    },
    "76ca452f34724df18f9905005f5246c7": {
     "model_module": "@jupyter-widgets/base",
     "model_module_version": "1.2.0",
     "model_name": "LayoutModel",
     "state": {
      "_model_module": "@jupyter-widgets/base",
      "_model_module_version": "1.2.0",
      "_model_name": "LayoutModel",
      "_view_count": null,
      "_view_module": "@jupyter-widgets/base",
      "_view_module_version": "1.2.0",
      "_view_name": "LayoutView",
      "align_content": null,
      "align_items": null,
      "align_self": null,
      "border": null,
      "bottom": null,
      "display": null,
      "flex": null,
      "flex_flow": null,
      "grid_area": null,
      "grid_auto_columns": null,
      "grid_auto_flow": null,
      "grid_auto_rows": null,
      "grid_column": null,
      "grid_gap": null,
      "grid_row": null,
      "grid_template_areas": null,
      "grid_template_columns": null,
      "grid_template_rows": null,
      "height": null,
      "justify_content": null,
      "justify_items": null,
      "left": null,
      "margin": null,
      "max_height": null,
      "max_width": null,
      "min_height": null,
      "min_width": null,
      "object_fit": null,
      "object_position": null,
      "order": null,
      "overflow": null,
      "overflow_x": null,
      "overflow_y": null,
      "padding": null,
      "right": null,
      "top": null,
      "visibility": null,
      "width": null
     }
    },
    "792483839b5642d9a77a1c28c678d5eb": {
     "model_module": "@jupyter-widgets/controls",
     "model_module_version": "1.5.0",
     "model_name": "HBoxModel",
     "state": {
      "_dom_classes": [],
      "_model_module": "@jupyter-widgets/controls",
      "_model_module_version": "1.5.0",
      "_model_name": "HBoxModel",
      "_view_count": null,
      "_view_module": "@jupyter-widgets/controls",
      "_view_module_version": "1.5.0",
      "_view_name": "HBoxView",
      "box_style": "",
      "children": [
       "IPY_MODEL_0a44d6bd570c45b6bcdc6aa8494dfdfe",
       "IPY_MODEL_2ac41fe99c34426cb5c0f6741885f260",
       "IPY_MODEL_7f2a5184113e458ba8be469ecedc9555"
      ],
      "layout": "IPY_MODEL_911270b3443644fa8643cd16bfa1949b"
     }
    },
    "7f2a5184113e458ba8be469ecedc9555": {
     "model_module": "@jupyter-widgets/controls",
     "model_module_version": "1.5.0",
     "model_name": "HTMLModel",
     "state": {
      "_dom_classes": [],
      "_model_module": "@jupyter-widgets/controls",
      "_model_module_version": "1.5.0",
      "_model_name": "HTMLModel",
      "_view_count": null,
      "_view_module": "@jupyter-widgets/controls",
      "_view_module_version": "1.5.0",
      "_view_name": "HTMLView",
      "description": "",
      "description_tooltip": null,
      "layout": "IPY_MODEL_f8b310fc6c794220814f45dc562d37e9",
      "placeholder": "​",
      "style": "IPY_MODEL_da76dfb62d3c4e51a575c0b63201555c",
      "value": " 88.2M/88.2M [00:00&lt;00:00, 132MB/s]"
     }
    },
    "80b5585fe96c42728629e1d181bff111": {
     "model_module": "@jupyter-widgets/controls",
     "model_module_version": "1.5.0",
     "model_name": "DescriptionStyleModel",
     "state": {
      "_model_module": "@jupyter-widgets/controls",
      "_model_module_version": "1.5.0",
      "_model_name": "DescriptionStyleModel",
      "_view_count": null,
      "_view_module": "@jupyter-widgets/base",
      "_view_module_version": "1.2.0",
      "_view_name": "StyleView",
      "description_width": ""
     }
    },
    "911270b3443644fa8643cd16bfa1949b": {
     "model_module": "@jupyter-widgets/base",
     "model_module_version": "1.2.0",
     "model_name": "LayoutModel",
     "state": {
      "_model_module": "@jupyter-widgets/base",
      "_model_module_version": "1.2.0",
      "_model_name": "LayoutModel",
      "_view_count": null,
      "_view_module": "@jupyter-widgets/base",
      "_view_module_version": "1.2.0",
      "_view_name": "LayoutView",
      "align_content": null,
      "align_items": null,
      "align_self": null,
      "border": null,
      "bottom": null,
      "display": null,
      "flex": null,
      "flex_flow": null,
      "grid_area": null,
      "grid_auto_columns": null,
      "grid_auto_flow": null,
      "grid_auto_rows": null,
      "grid_column": null,
      "grid_gap": null,
      "grid_row": null,
      "grid_template_areas": null,
      "grid_template_columns": null,
      "grid_template_rows": null,
      "height": null,
      "justify_content": null,
      "justify_items": null,
      "left": null,
      "margin": null,
      "max_height": null,
      "max_width": null,
      "min_height": null,
      "min_width": null,
      "object_fit": null,
      "object_position": null,
      "order": null,
      "overflow": null,
      "overflow_x": null,
      "overflow_y": null,
      "padding": null,
      "right": null,
      "top": null,
      "visibility": null,
      "width": null
     }
    },
    "988e2a5d6179413595cca60cc37365f9": {
     "model_module": "@jupyter-widgets/base",
     "model_module_version": "1.2.0",
     "model_name": "LayoutModel",
     "state": {
      "_model_module": "@jupyter-widgets/base",
      "_model_module_version": "1.2.0",
      "_model_name": "LayoutModel",
      "_view_count": null,
      "_view_module": "@jupyter-widgets/base",
      "_view_module_version": "1.2.0",
      "_view_name": "LayoutView",
      "align_content": null,
      "align_items": null,
      "align_self": null,
      "border": null,
      "bottom": null,
      "display": null,
      "flex": null,
      "flex_flow": null,
      "grid_area": null,
      "grid_auto_columns": null,
      "grid_auto_flow": null,
      "grid_auto_rows": null,
      "grid_column": null,
      "grid_gap": null,
      "grid_row": null,
      "grid_template_areas": null,
      "grid_template_columns": null,
      "grid_template_rows": null,
      "height": null,
      "justify_content": null,
      "justify_items": null,
      "left": null,
      "margin": null,
      "max_height": null,
      "max_width": null,
      "min_height": null,
      "min_width": null,
      "object_fit": null,
      "object_position": null,
      "order": null,
      "overflow": null,
      "overflow_x": null,
      "overflow_y": null,
      "padding": null,
      "right": null,
      "top": null,
      "visibility": null,
      "width": null
     }
    },
    "b5edb563c59740438ab0d48edc4001e9": {
     "model_module": "@jupyter-widgets/controls",
     "model_module_version": "1.5.0",
     "model_name": "DescriptionStyleModel",
     "state": {
      "_model_module": "@jupyter-widgets/controls",
      "_model_module_version": "1.5.0",
      "_model_name": "DescriptionStyleModel",
      "_view_count": null,
      "_view_module": "@jupyter-widgets/base",
      "_view_module_version": "1.2.0",
      "_view_name": "StyleView",
      "description_width": ""
     }
    },
    "da76dfb62d3c4e51a575c0b63201555c": {
     "model_module": "@jupyter-widgets/controls",
     "model_module_version": "1.5.0",
     "model_name": "DescriptionStyleModel",
     "state": {
      "_model_module": "@jupyter-widgets/controls",
      "_model_module_version": "1.5.0",
      "_model_name": "DescriptionStyleModel",
      "_view_count": null,
      "_view_module": "@jupyter-widgets/base",
      "_view_module_version": "1.2.0",
      "_view_name": "StyleView",
      "description_width": ""
     }
    },
    "f8b310fc6c794220814f45dc562d37e9": {
     "model_module": "@jupyter-widgets/base",
     "model_module_version": "1.2.0",
     "model_name": "LayoutModel",
     "state": {
      "_model_module": "@jupyter-widgets/base",
      "_model_module_version": "1.2.0",
      "_model_name": "LayoutModel",
      "_view_count": null,
      "_view_module": "@jupyter-widgets/base",
      "_view_module_version": "1.2.0",
      "_view_name": "LayoutView",
      "align_content": null,
      "align_items": null,
      "align_self": null,
      "border": null,
      "bottom": null,
      "display": null,
      "flex": null,
      "flex_flow": null,
      "grid_area": null,
      "grid_auto_columns": null,
      "grid_auto_flow": null,
      "grid_auto_rows": null,
      "grid_column": null,
      "grid_gap": null,
      "grid_row": null,
      "grid_template_areas": null,
      "grid_template_columns": null,
      "grid_template_rows": null,
      "height": null,
      "justify_content": null,
      "justify_items": null,
      "left": null,
      "margin": null,
      "max_height": null,
      "max_width": null,
      "min_height": null,
      "min_width": null,
      "object_fit": null,
      "object_position": null,
      "order": null,
      "overflow": null,
      "overflow_x": null,
      "overflow_y": null,
      "padding": null,
      "right": null,
      "top": null,
      "visibility": null,
      "width": null
     }
    },
    "fd540606ece4410e9e36799d293f097f": {
     "model_module": "@jupyter-widgets/controls",
     "model_module_version": "1.5.0",
     "model_name": "ProgressStyleModel",
     "state": {
      "_model_module": "@jupyter-widgets/controls",
      "_model_module_version": "1.5.0",
      "_model_name": "ProgressStyleModel",
      "_view_count": null,
      "_view_module": "@jupyter-widgets/base",
      "_view_module_version": "1.2.0",
      "_view_name": "StyleView",
      "bar_color": null,
      "description_width": ""
     }
    }
   }
  }
 },
 "nbformat": 4,
 "nbformat_minor": 4
}
